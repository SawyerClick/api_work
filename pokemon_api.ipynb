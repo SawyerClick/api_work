{
 "cells": [
  {
   "cell_type": "code",
   "execution_count": 1,
   "metadata": {},
   "outputs": [
    {
     "data": {
      "text/plain": [
       "{'count': 60,\n",
       " 'next': 'https://swapi.co/api/people/?page=2&search=a',\n",
       " 'previous': None,\n",
       " 'results': [{'name': 'Luke Skywalker',\n",
       "   'height': '172',\n",
       "   'mass': '77',\n",
       "   'hair_color': 'blond',\n",
       "   'skin_color': 'fair',\n",
       "   'eye_color': 'blue',\n",
       "   'birth_year': '19BBY',\n",
       "   'gender': 'male',\n",
       "   'homeworld': 'https://swapi.co/api/planets/1/',\n",
       "   'films': ['https://swapi.co/api/films/2/',\n",
       "    'https://swapi.co/api/films/6/',\n",
       "    'https://swapi.co/api/films/3/',\n",
       "    'https://swapi.co/api/films/1/',\n",
       "    'https://swapi.co/api/films/7/'],\n",
       "   'species': ['https://swapi.co/api/species/1/'],\n",
       "   'vehicles': ['https://swapi.co/api/vehicles/14/',\n",
       "    'https://swapi.co/api/vehicles/30/'],\n",
       "   'starships': ['https://swapi.co/api/starships/12/',\n",
       "    'https://swapi.co/api/starships/22/'],\n",
       "   'created': '2014-12-09T13:50:51.644000Z',\n",
       "   'edited': '2014-12-20T21:17:56.891000Z',\n",
       "   'url': 'https://swapi.co/api/people/1/'},\n",
       "  {'name': 'Darth Vader',\n",
       "   'height': '202',\n",
       "   'mass': '136',\n",
       "   'hair_color': 'none',\n",
       "   'skin_color': 'white',\n",
       "   'eye_color': 'yellow',\n",
       "   'birth_year': '41.9BBY',\n",
       "   'gender': 'male',\n",
       "   'homeworld': 'https://swapi.co/api/planets/1/',\n",
       "   'films': ['https://swapi.co/api/films/2/',\n",
       "    'https://swapi.co/api/films/6/',\n",
       "    'https://swapi.co/api/films/3/',\n",
       "    'https://swapi.co/api/films/1/'],\n",
       "   'species': ['https://swapi.co/api/species/1/'],\n",
       "   'vehicles': [],\n",
       "   'starships': ['https://swapi.co/api/starships/13/'],\n",
       "   'created': '2014-12-10T15:18:20.704000Z',\n",
       "   'edited': '2014-12-20T21:17:50.313000Z',\n",
       "   'url': 'https://swapi.co/api/people/4/'},\n",
       "  {'name': 'Leia Organa',\n",
       "   'height': '150',\n",
       "   'mass': '49',\n",
       "   'hair_color': 'brown',\n",
       "   'skin_color': 'light',\n",
       "   'eye_color': 'brown',\n",
       "   'birth_year': '19BBY',\n",
       "   'gender': 'female',\n",
       "   'homeworld': 'https://swapi.co/api/planets/2/',\n",
       "   'films': ['https://swapi.co/api/films/2/',\n",
       "    'https://swapi.co/api/films/6/',\n",
       "    'https://swapi.co/api/films/3/',\n",
       "    'https://swapi.co/api/films/1/',\n",
       "    'https://swapi.co/api/films/7/'],\n",
       "   'species': ['https://swapi.co/api/species/1/'],\n",
       "   'vehicles': ['https://swapi.co/api/vehicles/30/'],\n",
       "   'starships': [],\n",
       "   'created': '2014-12-10T15:20:09.791000Z',\n",
       "   'edited': '2014-12-20T21:17:50.315000Z',\n",
       "   'url': 'https://swapi.co/api/people/5/'},\n",
       "  {'name': 'Owen Lars',\n",
       "   'height': '178',\n",
       "   'mass': '120',\n",
       "   'hair_color': 'brown, grey',\n",
       "   'skin_color': 'light',\n",
       "   'eye_color': 'blue',\n",
       "   'birth_year': '52BBY',\n",
       "   'gender': 'male',\n",
       "   'homeworld': 'https://swapi.co/api/planets/1/',\n",
       "   'films': ['https://swapi.co/api/films/5/',\n",
       "    'https://swapi.co/api/films/6/',\n",
       "    'https://swapi.co/api/films/1/'],\n",
       "   'species': ['https://swapi.co/api/species/1/'],\n",
       "   'vehicles': [],\n",
       "   'starships': [],\n",
       "   'created': '2014-12-10T15:52:14.024000Z',\n",
       "   'edited': '2014-12-20T21:17:50.317000Z',\n",
       "   'url': 'https://swapi.co/api/people/6/'},\n",
       "  {'name': 'Beru Whitesun lars',\n",
       "   'height': '165',\n",
       "   'mass': '75',\n",
       "   'hair_color': 'brown',\n",
       "   'skin_color': 'light',\n",
       "   'eye_color': 'blue',\n",
       "   'birth_year': '47BBY',\n",
       "   'gender': 'female',\n",
       "   'homeworld': 'https://swapi.co/api/planets/1/',\n",
       "   'films': ['https://swapi.co/api/films/5/',\n",
       "    'https://swapi.co/api/films/6/',\n",
       "    'https://swapi.co/api/films/1/'],\n",
       "   'species': ['https://swapi.co/api/species/1/'],\n",
       "   'vehicles': [],\n",
       "   'starships': [],\n",
       "   'created': '2014-12-10T15:53:41.121000Z',\n",
       "   'edited': '2014-12-20T21:17:50.319000Z',\n",
       "   'url': 'https://swapi.co/api/people/7/'},\n",
       "  {'name': 'Biggs Darklighter',\n",
       "   'height': '183',\n",
       "   'mass': '84',\n",
       "   'hair_color': 'black',\n",
       "   'skin_color': 'light',\n",
       "   'eye_color': 'brown',\n",
       "   'birth_year': '24BBY',\n",
       "   'gender': 'male',\n",
       "   'homeworld': 'https://swapi.co/api/planets/1/',\n",
       "   'films': ['https://swapi.co/api/films/1/'],\n",
       "   'species': ['https://swapi.co/api/species/1/'],\n",
       "   'vehicles': [],\n",
       "   'starships': ['https://swapi.co/api/starships/12/'],\n",
       "   'created': '2014-12-10T15:59:50.509000Z',\n",
       "   'edited': '2014-12-20T21:17:50.323000Z',\n",
       "   'url': 'https://swapi.co/api/people/9/'},\n",
       "  {'name': 'Obi-Wan Kenobi',\n",
       "   'height': '182',\n",
       "   'mass': '77',\n",
       "   'hair_color': 'auburn, white',\n",
       "   'skin_color': 'fair',\n",
       "   'eye_color': 'blue-gray',\n",
       "   'birth_year': '57BBY',\n",
       "   'gender': 'male',\n",
       "   'homeworld': 'https://swapi.co/api/planets/20/',\n",
       "   'films': ['https://swapi.co/api/films/2/',\n",
       "    'https://swapi.co/api/films/5/',\n",
       "    'https://swapi.co/api/films/4/',\n",
       "    'https://swapi.co/api/films/6/',\n",
       "    'https://swapi.co/api/films/3/',\n",
       "    'https://swapi.co/api/films/1/'],\n",
       "   'species': ['https://swapi.co/api/species/1/'],\n",
       "   'vehicles': ['https://swapi.co/api/vehicles/38/'],\n",
       "   'starships': ['https://swapi.co/api/starships/48/',\n",
       "    'https://swapi.co/api/starships/59/',\n",
       "    'https://swapi.co/api/starships/64/',\n",
       "    'https://swapi.co/api/starships/65/',\n",
       "    'https://swapi.co/api/starships/74/'],\n",
       "   'created': '2014-12-10T16:16:29.192000Z',\n",
       "   'edited': '2014-12-20T21:17:50.325000Z',\n",
       "   'url': 'https://swapi.co/api/people/10/'},\n",
       "  {'name': 'Anakin Skywalker',\n",
       "   'height': '188',\n",
       "   'mass': '84',\n",
       "   'hair_color': 'blond',\n",
       "   'skin_color': 'fair',\n",
       "   'eye_color': 'blue',\n",
       "   'birth_year': '41.9BBY',\n",
       "   'gender': 'male',\n",
       "   'homeworld': 'https://swapi.co/api/planets/1/',\n",
       "   'films': ['https://swapi.co/api/films/5/',\n",
       "    'https://swapi.co/api/films/4/',\n",
       "    'https://swapi.co/api/films/6/'],\n",
       "   'species': ['https://swapi.co/api/species/1/'],\n",
       "   'vehicles': ['https://swapi.co/api/vehicles/44/',\n",
       "    'https://swapi.co/api/vehicles/46/'],\n",
       "   'starships': ['https://swapi.co/api/starships/59/',\n",
       "    'https://swapi.co/api/starships/65/',\n",
       "    'https://swapi.co/api/starships/39/'],\n",
       "   'created': '2014-12-10T16:20:44.310000Z',\n",
       "   'edited': '2014-12-20T21:17:50.327000Z',\n",
       "   'url': 'https://swapi.co/api/people/11/'},\n",
       "  {'name': 'Wilhuff Tarkin',\n",
       "   'height': '180',\n",
       "   'mass': 'unknown',\n",
       "   'hair_color': 'auburn, grey',\n",
       "   'skin_color': 'fair',\n",
       "   'eye_color': 'blue',\n",
       "   'birth_year': '64BBY',\n",
       "   'gender': 'male',\n",
       "   'homeworld': 'https://swapi.co/api/planets/21/',\n",
       "   'films': ['https://swapi.co/api/films/6/', 'https://swapi.co/api/films/1/'],\n",
       "   'species': ['https://swapi.co/api/species/1/'],\n",
       "   'vehicles': [],\n",
       "   'starships': [],\n",
       "   'created': '2014-12-10T16:26:56.138000Z',\n",
       "   'edited': '2014-12-20T21:17:50.330000Z',\n",
       "   'url': 'https://swapi.co/api/people/12/'},\n",
       "  {'name': 'Chewbacca',\n",
       "   'height': '228',\n",
       "   'mass': '112',\n",
       "   'hair_color': 'brown',\n",
       "   'skin_color': 'unknown',\n",
       "   'eye_color': 'blue',\n",
       "   'birth_year': '200BBY',\n",
       "   'gender': 'male',\n",
       "   'homeworld': 'https://swapi.co/api/planets/14/',\n",
       "   'films': ['https://swapi.co/api/films/2/',\n",
       "    'https://swapi.co/api/films/6/',\n",
       "    'https://swapi.co/api/films/3/',\n",
       "    'https://swapi.co/api/films/1/',\n",
       "    'https://swapi.co/api/films/7/'],\n",
       "   'species': ['https://swapi.co/api/species/3/'],\n",
       "   'vehicles': ['https://swapi.co/api/vehicles/19/'],\n",
       "   'starships': ['https://swapi.co/api/starships/10/',\n",
       "    'https://swapi.co/api/starships/22/'],\n",
       "   'created': '2014-12-10T16:42:45.066000Z',\n",
       "   'edited': '2014-12-20T21:17:50.332000Z',\n",
       "   'url': 'https://swapi.co/api/people/13/'}]}"
      ]
     },
     "execution_count": 1,
     "metadata": {},
     "output_type": "execute_result"
    }
   ],
   "source": [
    "import requests\n",
    "\n",
    "response = requests.get(\"https://swapi.co/api/people/?search=a\")\n",
    "data = response.json()\n",
    "data"
   ]
  },
  {
   "cell_type": "code",
   "execution_count": 2,
   "metadata": {},
   "outputs": [
    {
     "data": {
      "text/plain": [
       "60"
      ]
     },
     "execution_count": 2,
     "metadata": {},
     "output_type": "execute_result"
    }
   ],
   "source": [
    "data['count']"
   ]
  },
  {
   "cell_type": "code",
   "execution_count": 5,
   "metadata": {},
   "outputs": [
    {
     "name": "stdout",
     "output_type": "stream",
     "text": [
      "Luke Skywalker\n",
      "Darth Vader\n",
      "Leia Organa\n",
      "Owen Lars\n",
      "Beru Whitesun lars\n",
      "Biggs Darklighter\n",
      "Obi-Wan Kenobi\n",
      "Anakin Skywalker\n",
      "Wilhuff Tarkin\n",
      "Chewbacca\n"
     ]
    }
   ],
   "source": [
    "for person in data['results']:\n",
    "    print(person['name'])"
   ]
  },
  {
   "cell_type": "code",
   "execution_count": 6,
   "metadata": {},
   "outputs": [
    {
     "data": {
      "text/plain": [
       "10"
      ]
     },
     "execution_count": 6,
     "metadata": {},
     "output_type": "execute_result"
    }
   ],
   "source": [
    "len(data['results'])"
   ]
  },
  {
   "cell_type": "code",
   "execution_count": 7,
   "metadata": {},
   "outputs": [
    {
     "name": "stdout",
     "output_type": "stream",
     "text": [
      "https://swapi.co/api/people/?page=2&search=a\n"
     ]
    }
   ],
   "source": [
    "print(data['next'])"
   ]
  },
  {
   "cell_type": "code",
   "execution_count": 10,
   "metadata": {},
   "outputs": [
    {
     "name": "stdout",
     "output_type": "stream",
     "text": [
      "Han Solo\n",
      "Jabba Desilijic Tiure\n",
      "Wedge Antilles\n",
      "Yoda\n",
      "Palpatine\n",
      "Boba Fett\n",
      "Lando Calrissian\n",
      "Ackbar\n",
      "Mon Mothma\n",
      "Arvel Crynyd\n"
     ]
    }
   ],
   "source": [
    "response = requests.get(\"https://swapi.co/api/people/?search=a&page=2\")\n",
    "data = response.json()\n",
    "\n",
    "for person in data['results']:\n",
    "    print(person['name'])"
   ]
  },
  {
   "cell_type": "code",
   "execution_count": 11,
   "metadata": {},
   "outputs": [
    {
     "name": "stdout",
     "output_type": "stream",
     "text": [
      "Luke Skywalker\n",
      "Darth Vader\n",
      "Leia Organa\n",
      "Owen Lars\n",
      "Beru Whitesun lars\n",
      "Biggs Darklighter\n",
      "Obi-Wan Kenobi\n",
      "Anakin Skywalker\n",
      "Wilhuff Tarkin\n",
      "Chewbacca\n"
     ]
    }
   ],
   "source": [
    "response = requests.get(\"https://swapi.co/api/people/?search=a\")\n",
    "data = response.json()\n",
    "\n",
    "for person in data['results']:\n",
    "    print(person['name'])"
   ]
  },
  {
   "cell_type": "code",
   "execution_count": 12,
   "metadata": {},
   "outputs": [
    {
     "name": "stdout",
     "output_type": "stream",
     "text": [
      "https://swapi.co/api/people/?page=2&search=a\n"
     ]
    }
   ],
   "source": [
    "print(data['next'])"
   ]
  },
  {
   "cell_type": "code",
   "execution_count": 17,
   "metadata": {},
   "outputs": [
    {
     "name": "stdout",
     "output_type": "stream",
     "text": [
      "Han Solo\n",
      "Jabba Desilijic Tiure\n",
      "Wedge Antilles\n",
      "Yoda\n",
      "Palpatine\n",
      "Boba Fett\n",
      "Lando Calrissian\n",
      "Ackbar\n",
      "Mon Mothma\n",
      "Arvel Crynyd\n"
     ]
    }
   ],
   "source": [
    "response = requests.get(\"https://swapi.co/api/people/?page=2&search=a\")\n",
    "data = response.json()\n",
    "\n",
    "for person in data['results']:\n",
    "    print(person['name'])"
   ]
  },
  {
   "cell_type": "code",
   "execution_count": 18,
   "metadata": {},
   "outputs": [
    {
     "name": "stdout",
     "output_type": "stream",
     "text": [
      "https://swapi.co/api/people/?page=3&search=a\n"
     ]
    }
   ],
   "source": [
    "print(data['next'])"
   ]
  },
  {
   "cell_type": "code",
   "execution_count": 19,
   "metadata": {},
   "outputs": [
    {
     "name": "stdout",
     "output_type": "stream",
     "text": [
      "Wicket Systri Warrick\n",
      "Nute Gunray\n",
      "Finis Valorum\n",
      "Jar Jar Binks\n",
      "Roos Tarpals\n",
      "Rugor Nass\n",
      "Watto\n",
      "Sebulba\n",
      "Quarsh Panaka\n",
      "Shmi Skywalker\n"
     ]
    }
   ],
   "source": [
    "response = requests.get(\"https://swapi.co/api/people/?page=3&search=a\")\n",
    "data = response.json()\n",
    "\n",
    "for person in data['results']:\n",
    "    print(person['name'])"
   ]
  },
  {
   "cell_type": "code",
   "execution_count": 20,
   "metadata": {},
   "outputs": [
    {
     "name": "stdout",
     "output_type": "stream",
     "text": [
      "Downloading the original search results\n",
      "Next page found, downloading https://swapi.co/api/people/?page=2&search=a\n"
     ]
    }
   ],
   "source": [
    "# Grab the search results\n",
    "print(\"Downloading the original search results\")\n",
    "response = requests.get(\"https://swapi.co/api/people/?search=a\")\n",
    "data = response.json()\n",
    "\n",
    "# If data['next'] isn't empty, let's download the next page, too\n",
    "if data['next'] is not None:\n",
    "    print(\"Next page found, downloading\", data['next'])\n",
    "    response = requests.get(data['next'])\n",
    "    data = response.json()"
   ]
  },
  {
   "cell_type": "code",
   "execution_count": 21,
   "metadata": {},
   "outputs": [
    {
     "name": "stdout",
     "output_type": "stream",
     "text": [
      "Downloading the original search results\n",
      "Next page found, downloading https://swapi.co/api/people/?page=2&search=a\n",
      "Next page found, downloading https://swapi.co/api/people/?page=3&search=a\n",
      "Next page found, downloading https://swapi.co/api/people/?page=4&search=a\n",
      "Next page found, downloading https://swapi.co/api/people/?page=5&search=a\n",
      "Next page found, downloading https://swapi.co/api/people/?page=6&search=a\n"
     ]
    }
   ],
   "source": [
    "# Grab the search results\n",
    "print(\"Downloading the original search results\")\n",
    "response = requests.get(\"https://swapi.co/api/people/?search=a\")\n",
    "data = response.json()\n",
    "\n",
    "# While data['next'] isn't empty, let's download the next page, too\n",
    "while data['next'] is not None:\n",
    "    print(\"Next page found, downloading\", data['next'])\n",
    "    response = requests.get(data['next'])\n",
    "    data = response.json()"
   ]
  },
  {
   "cell_type": "code",
   "execution_count": null,
   "metadata": {},
   "outputs": [],
   "source": []
  }
 ],
 "metadata": {
  "kernelspec": {
   "display_name": "Python 3",
   "language": "python",
   "name": "python3"
  },
  "language_info": {
   "codemirror_mode": {
    "name": "ipython",
    "version": 3
   },
   "file_extension": ".py",
   "mimetype": "text/x-python",
   "name": "python",
   "nbconvert_exporter": "python",
   "pygments_lexer": "ipython3",
   "version": "3.7.3"
  }
 },
 "nbformat": 4,
 "nbformat_minor": 2
}
